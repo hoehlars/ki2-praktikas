{
 "cells": [
  {
   "cell_type": "code",
   "execution_count": 12,
   "metadata": {},
   "outputs": [],
   "source": [
    "import csv\n",
    "import pdb\n",
    "import re\n",
    "import pdb\n",
    "import sys\n",
    "import pickle\n",
    "import random\n",
    "import zipfile\n",
    "\n",
    "from collections import Counter\n",
    "from io import StringIO\n",
    "from sklearn.feature_extraction.text import TfidfVectorizer\n",
    "from sklearn.svm import LinearSVC\n",
    "from sklearn.model_selection import cross_val_predict, train_test_split\n",
    "from sklearn.metrics import classification_report, confusion_matrix\n",
    "from nltk.corpus import stopwords\n",
    "from nltk.stem.snowball import SnowballStemmer\n",
    "import numpy as np\n",
    "\n",
    "import tensorflow as tf\n",
    "from tensorflow import keras\n",
    "import matplotlib.pyplot as plt\n",
    "\n",
    "random.seed(42)  # Ensure reproducible results\n",
    "STEMMER = SnowballStemmer(\"english\")\n",
    "STOPWORDS = stopwords.words('english')\n",
    "\n",
    "\n",
    "def read_data(remove_stopwords=True, remove_numbers=True, do_stem=True, reprocess=False):\n",
    "    \"\"\" \n",
    "    Read CSV with annotated data. \n",
    "    We'll binarize the classification, i.e. subsume all hate speach related classes \n",
    "    'toxic, severe_toxic, obscene, threat, insult, identity_hate'\n",
    "    into one.\n",
    "\n",
    "    In this method we also do a lot of preprocessing steps, based on the flags which are set in the parameters.\n",
    "    Feel free to try out different possible combinations of preprocessing steps (e.g. with cross-validation).\n",
    "    \"\"\"\n",
    "    if reprocess:\n",
    "        X, Y = [], []\n",
    "        zip_ref = zipfile.ZipFile('train.csv.zip', 'r')\n",
    "        zip_ref.extractall()\n",
    "        zip_ref.close()\n",
    "        for i, row in enumerate(csv.reader(open('train.csv', encoding='UTF-8'))):\n",
    "            if i > 0:   # Skip the header line\n",
    "                sys.stderr.write('\\r'+str(i))\n",
    "                sys.stderr.flush()\n",
    "                text = re.findall('\\w+', row[1].lower())\n",
    "                if remove_stopwords:\n",
    "                    text = [w for w in text if not w in STOPWORDS]\n",
    "                if remove_numbers:\n",
    "                    text = [w for w in text if not re.sub('\\'\\.,','',w).isdigit()]\n",
    "                if do_stem:\n",
    "                    text = [STEMMER.stem(w) for w in text]\n",
    "                label = 1 if '1' in row[2:] else 0  # Any hate speach label \n",
    "                X.append(' '.join(text))\n",
    "                Y.append(label)\n",
    "        sys.stderr.write('\\n')\n",
    "        pickle.dump(X, open('X.pkl', 'wb'))\n",
    "        pickle.dump(Y, open('Y.pkl', 'wb'))\n",
    "    else:\n",
    "        X = pickle.load(open('X.pkl', 'rb'))\n",
    "        Y = pickle.load(open('Y.pkl', 'rb'))\n",
    "    print(len(X), 'data points read')\n",
    "    print('Label distribution:',Counter(Y))\n",
    "    print('As percentages:')\n",
    "    for label, count_ in Counter(Y).items():\n",
    "        print(label, ':', round(100*(count_/len(X)), 2))\n",
    "    return X, Y"
   ]
  },
  {
   "cell_type": "markdown",
   "metadata": {},
   "source": [
    "## Read in data"
   ]
  },
  {
   "cell_type": "code",
   "execution_count": 18,
   "metadata": {},
   "outputs": [
    {
     "name": "stderr",
     "output_type": "stream",
     "text": [
      "Loading data\n",
      "1"
     ]
    },
    {
     "ename": "NameError",
     "evalue": "name 'STOPWORDS' is not defined",
     "output_type": "error",
     "traceback": [
      "\u001b[1;31m---------------------------------------------------------------------------\u001b[0m",
      "\u001b[1;31mNameError\u001b[0m                                 Traceback (most recent call last)",
      "\u001b[1;32m<ipython-input-18-89cc1935344d>\u001b[0m in \u001b[0;36m<module>\u001b[1;34m\u001b[0m\n\u001b[0;32m      1\u001b[0m \u001b[0mprint\u001b[0m\u001b[1;33m(\u001b[0m\u001b[1;34m'Loading data'\u001b[0m\u001b[1;33m,\u001b[0m \u001b[0mfile\u001b[0m\u001b[1;33m=\u001b[0m\u001b[0msys\u001b[0m\u001b[1;33m.\u001b[0m\u001b[0mstderr\u001b[0m\u001b[1;33m)\u001b[0m\u001b[1;33m\u001b[0m\u001b[1;33m\u001b[0m\u001b[0m\n\u001b[1;32m----> 2\u001b[1;33m \u001b[0mX\u001b[0m\u001b[1;33m,\u001b[0m \u001b[0mY\u001b[0m \u001b[1;33m=\u001b[0m \u001b[0mread_data\u001b[0m\u001b[1;33m(\u001b[0m\u001b[0mreprocess\u001b[0m\u001b[1;33m=\u001b[0m\u001b[1;32mTrue\u001b[0m\u001b[1;33m)\u001b[0m\u001b[1;33m\u001b[0m\u001b[1;33m\u001b[0m\u001b[0m\n\u001b[0m",
      "\u001b[1;32m<ipython-input-12-376b286908a8>\u001b[0m in \u001b[0;36mread_data\u001b[1;34m(remove_stopwords, remove_numbers, do_stem, reprocess)\u001b[0m\n\u001b[0;32m     47\u001b[0m                 \u001b[0mtext\u001b[0m \u001b[1;33m=\u001b[0m \u001b[0mre\u001b[0m\u001b[1;33m.\u001b[0m\u001b[0mfindall\u001b[0m\u001b[1;33m(\u001b[0m\u001b[1;34m'\\w+'\u001b[0m\u001b[1;33m,\u001b[0m \u001b[0mrow\u001b[0m\u001b[1;33m[\u001b[0m\u001b[1;36m1\u001b[0m\u001b[1;33m]\u001b[0m\u001b[1;33m.\u001b[0m\u001b[0mlower\u001b[0m\u001b[1;33m(\u001b[0m\u001b[1;33m)\u001b[0m\u001b[1;33m)\u001b[0m\u001b[1;33m\u001b[0m\u001b[1;33m\u001b[0m\u001b[0m\n\u001b[0;32m     48\u001b[0m                 \u001b[1;32mif\u001b[0m \u001b[0mremove_stopwords\u001b[0m\u001b[1;33m:\u001b[0m\u001b[1;33m\u001b[0m\u001b[1;33m\u001b[0m\u001b[0m\n\u001b[1;32m---> 49\u001b[1;33m                     \u001b[0mtext\u001b[0m \u001b[1;33m=\u001b[0m \u001b[1;33m[\u001b[0m\u001b[0mw\u001b[0m \u001b[1;32mfor\u001b[0m \u001b[0mw\u001b[0m \u001b[1;32min\u001b[0m \u001b[0mtext\u001b[0m \u001b[1;32mif\u001b[0m \u001b[1;32mnot\u001b[0m \u001b[0mw\u001b[0m \u001b[1;32min\u001b[0m \u001b[0mSTOPWORDS\u001b[0m\u001b[1;33m]\u001b[0m\u001b[1;33m\u001b[0m\u001b[1;33m\u001b[0m\u001b[0m\n\u001b[0m\u001b[0;32m     50\u001b[0m                 \u001b[1;32mif\u001b[0m \u001b[0mremove_numbers\u001b[0m\u001b[1;33m:\u001b[0m\u001b[1;33m\u001b[0m\u001b[1;33m\u001b[0m\u001b[0m\n\u001b[0;32m     51\u001b[0m                     \u001b[0mtext\u001b[0m \u001b[1;33m=\u001b[0m \u001b[1;33m[\u001b[0m\u001b[0mw\u001b[0m \u001b[1;32mfor\u001b[0m \u001b[0mw\u001b[0m \u001b[1;32min\u001b[0m \u001b[0mtext\u001b[0m \u001b[1;32mif\u001b[0m \u001b[1;32mnot\u001b[0m \u001b[0mre\u001b[0m\u001b[1;33m.\u001b[0m\u001b[0msub\u001b[0m\u001b[1;33m(\u001b[0m\u001b[1;34m'\\'\\.,'\u001b[0m\u001b[1;33m,\u001b[0m\u001b[1;34m''\u001b[0m\u001b[1;33m,\u001b[0m\u001b[0mw\u001b[0m\u001b[1;33m)\u001b[0m\u001b[1;33m.\u001b[0m\u001b[0misdigit\u001b[0m\u001b[1;33m(\u001b[0m\u001b[1;33m)\u001b[0m\u001b[1;33m]\u001b[0m\u001b[1;33m\u001b[0m\u001b[1;33m\u001b[0m\u001b[0m\n",
      "\u001b[1;32m<ipython-input-12-376b286908a8>\u001b[0m in \u001b[0;36m<listcomp>\u001b[1;34m(.0)\u001b[0m\n\u001b[0;32m     47\u001b[0m                 \u001b[0mtext\u001b[0m \u001b[1;33m=\u001b[0m \u001b[0mre\u001b[0m\u001b[1;33m.\u001b[0m\u001b[0mfindall\u001b[0m\u001b[1;33m(\u001b[0m\u001b[1;34m'\\w+'\u001b[0m\u001b[1;33m,\u001b[0m \u001b[0mrow\u001b[0m\u001b[1;33m[\u001b[0m\u001b[1;36m1\u001b[0m\u001b[1;33m]\u001b[0m\u001b[1;33m.\u001b[0m\u001b[0mlower\u001b[0m\u001b[1;33m(\u001b[0m\u001b[1;33m)\u001b[0m\u001b[1;33m)\u001b[0m\u001b[1;33m\u001b[0m\u001b[1;33m\u001b[0m\u001b[0m\n\u001b[0;32m     48\u001b[0m                 \u001b[1;32mif\u001b[0m \u001b[0mremove_stopwords\u001b[0m\u001b[1;33m:\u001b[0m\u001b[1;33m\u001b[0m\u001b[1;33m\u001b[0m\u001b[0m\n\u001b[1;32m---> 49\u001b[1;33m                     \u001b[0mtext\u001b[0m \u001b[1;33m=\u001b[0m \u001b[1;33m[\u001b[0m\u001b[0mw\u001b[0m \u001b[1;32mfor\u001b[0m \u001b[0mw\u001b[0m \u001b[1;32min\u001b[0m \u001b[0mtext\u001b[0m \u001b[1;32mif\u001b[0m \u001b[1;32mnot\u001b[0m \u001b[0mw\u001b[0m \u001b[1;32min\u001b[0m \u001b[0mSTOPWORDS\u001b[0m\u001b[1;33m]\u001b[0m\u001b[1;33m\u001b[0m\u001b[1;33m\u001b[0m\u001b[0m\n\u001b[0m\u001b[0;32m     50\u001b[0m                 \u001b[1;32mif\u001b[0m \u001b[0mremove_numbers\u001b[0m\u001b[1;33m:\u001b[0m\u001b[1;33m\u001b[0m\u001b[1;33m\u001b[0m\u001b[0m\n\u001b[0;32m     51\u001b[0m                     \u001b[0mtext\u001b[0m \u001b[1;33m=\u001b[0m \u001b[1;33m[\u001b[0m\u001b[0mw\u001b[0m \u001b[1;32mfor\u001b[0m \u001b[0mw\u001b[0m \u001b[1;32min\u001b[0m \u001b[0mtext\u001b[0m \u001b[1;32mif\u001b[0m \u001b[1;32mnot\u001b[0m \u001b[0mre\u001b[0m\u001b[1;33m.\u001b[0m\u001b[0msub\u001b[0m\u001b[1;33m(\u001b[0m\u001b[1;34m'\\'\\.,'\u001b[0m\u001b[1;33m,\u001b[0m\u001b[1;34m''\u001b[0m\u001b[1;33m,\u001b[0m\u001b[0mw\u001b[0m\u001b[1;33m)\u001b[0m\u001b[1;33m.\u001b[0m\u001b[0misdigit\u001b[0m\u001b[1;33m(\u001b[0m\u001b[1;33m)\u001b[0m\u001b[1;33m]\u001b[0m\u001b[1;33m\u001b[0m\u001b[1;33m\u001b[0m\u001b[0m\n",
      "\u001b[1;31mNameError\u001b[0m: name 'STOPWORDS' is not defined"
     ]
    }
   ],
   "source": [
    "print('Loading data', file=sys.stderr)\n",
    "X, Y = read_data(reprocess=True)"
   ]
  },
  {
   "cell_type": "markdown",
   "metadata": {},
   "source": [
    "## Vectorize with tf idf and downsample with 1500 features"
   ]
  },
  {
   "cell_type": "code",
   "execution_count": 16,
   "metadata": {},
   "outputs": [
    {
     "name": "stderr",
     "output_type": "stream",
     "text": [
      "Vectorizing with TFIDF\n"
     ]
    },
    {
     "ename": "NameError",
     "evalue": "name 'X' is not defined",
     "output_type": "error",
     "traceback": [
      "\u001b[1;31m---------------------------------------------------------------------------\u001b[0m",
      "\u001b[1;31mNameError\u001b[0m                                 Traceback (most recent call last)",
      "\u001b[1;32m<ipython-input-16-cf1b688e052f>\u001b[0m in \u001b[0;36m<module>\u001b[1;34m\u001b[0m\n\u001b[0;32m      1\u001b[0m \u001b[0mprint\u001b[0m\u001b[1;33m(\u001b[0m\u001b[1;34m'Vectorizing with TFIDF'\u001b[0m\u001b[1;33m,\u001b[0m \u001b[0mfile\u001b[0m\u001b[1;33m=\u001b[0m\u001b[0msys\u001b[0m\u001b[1;33m.\u001b[0m\u001b[0mstderr\u001b[0m\u001b[1;33m)\u001b[0m\u001b[1;33m\u001b[0m\u001b[1;33m\u001b[0m\u001b[0m\n\u001b[0;32m      2\u001b[0m \u001b[0mtfidfizer\u001b[0m \u001b[1;33m=\u001b[0m \u001b[0mTfidfVectorizer\u001b[0m\u001b[1;33m(\u001b[0m\u001b[0mmax_features\u001b[0m\u001b[1;33m=\u001b[0m\u001b[1;36m1500\u001b[0m\u001b[1;33m)\u001b[0m\u001b[1;33m\u001b[0m\u001b[1;33m\u001b[0m\u001b[0m\n\u001b[1;32m----> 3\u001b[1;33m \u001b[0mX_tfidf_matrix\u001b[0m \u001b[1;33m=\u001b[0m \u001b[0mtfidfizer\u001b[0m\u001b[1;33m.\u001b[0m\u001b[0mfit_transform\u001b[0m\u001b[1;33m(\u001b[0m\u001b[0mX\u001b[0m\u001b[1;33m)\u001b[0m\u001b[1;33m\u001b[0m\u001b[1;33m\u001b[0m\u001b[0m\n\u001b[0m\u001b[0;32m      4\u001b[0m \u001b[0mprint\u001b[0m\u001b[1;33m(\u001b[0m\u001b[1;34m'Data shape:'\u001b[0m\u001b[1;33m,\u001b[0m \u001b[0mX_tfidf_matrix\u001b[0m\u001b[1;33m.\u001b[0m\u001b[0mshape\u001b[0m\u001b[1;33m)\u001b[0m\u001b[1;33m\u001b[0m\u001b[1;33m\u001b[0m\u001b[0m\n\u001b[0;32m      5\u001b[0m \u001b[0mdo_downsample\u001b[0m \u001b[1;33m=\u001b[0m \u001b[1;32mTrue\u001b[0m\u001b[1;33m\u001b[0m\u001b[1;33m\u001b[0m\u001b[0m\n",
      "\u001b[1;31mNameError\u001b[0m: name 'X' is not defined"
     ]
    }
   ],
   "source": [
    "print('Vectorizing with TFIDF', file=sys.stderr)\n",
    "tfidfizer = TfidfVectorizer(max_features=1500)\n",
    "X_tfidf_matrix = tfidfizer.fit_transform(X)\n",
    "print('Data shape:', X_tfidf_matrix.shape)\n",
    "do_downsample = True\n",
    "if do_downsample:   # Only take 20% of the data\n",
    "    X_tfidf_matrix, X_, Y, Y_ = train_test_split(X_tfidf_matrix, Y, test_size=0.8, random_state=42, stratify=Y)\n",
    "    print('Downsampled data shape:', X_tfidf_matrix.shape)"
   ]
  },
  {
   "cell_type": "markdown",
   "metadata": {},
   "source": [
    "## Baseline with linear regression"
   ]
  },
  {
   "cell_type": "code",
   "execution_count": 4,
   "metadata": {},
   "outputs": [
    {
     "name": "stderr",
     "output_type": "stream",
     "text": [
      "Classification and evaluation\n",
      "              precision    recall  f1-score   support\n",
      "\n",
      "           0       0.98      0.92      0.95      5734\n",
      "           1       0.53      0.80      0.64       649\n",
      "\n",
      "    accuracy                           0.91      6383\n",
      "   macro avg       0.75      0.86      0.79      6383\n",
      "weighted avg       0.93      0.91      0.92      6383\n",
      "\n",
      "Using 3 folds\n",
      "              precision    recall  f1-score   support\n",
      "\n",
      "           0       0.97      0.91      0.94     28669\n",
      "           1       0.51      0.79      0.62      3245\n",
      "\n",
      "    accuracy                           0.90     31914\n",
      "   macro avg       0.74      0.85      0.78     31914\n",
      "weighted avg       0.93      0.90      0.91     31914\n",
      "\n"
     ]
    }
   ],
   "source": [
    "print('Classification and evaluation', file=sys.stderr)\n",
    "clf = LinearSVC(class_weight='balanced')    # Weight samples inverse to class imbalance\n",
    "# Randomly split data into 80% training and 20% testing, preserve class distribution with stratify\n",
    "X_train, X_test, Y_train, Y_test = train_test_split(X_tfidf_matrix, Y, test_size=0.2, random_state=42, stratify=Y)\n",
    "\n",
    "clf.fit(X_train, Y_train)\n",
    "y_pred = clf.predict(X_test)\n",
    "print(classification_report(Y_test, y_pred), file=sys.stderr)\n",
    "\n",
    "#Apply cross-validation, create prediction for all data point\n",
    "numcv = 3   # Number of folds\n",
    "print('Using', numcv, 'folds', file=sys.stderr)\n",
    "y_pred = cross_val_predict(clf, X_tfidf_matrix, Y, cv=numcv)\n",
    "print(classification_report(Y, y_pred), file=sys.stderr)"
   ]
  },
  {
   "cell_type": "markdown",
   "metadata": {},
   "source": [
    "## Train Model with two layers of 16 nodes"
   ]
  },
  {
   "cell_type": "code",
   "execution_count": 19,
   "metadata": {},
   "outputs": [
    {
     "name": "stdout",
     "output_type": "stream",
     "text": [
      "Model: \"sequential_2\"\n",
      "_________________________________________________________________\n",
      "Layer (type)                 Output Shape              Param #   \n",
      "=================================================================\n",
      "dense_3 (Dense)              (None, 16)                24016     \n",
      "_________________________________________________________________\n",
      "activation_3 (Activation)    (None, 16)                0         \n",
      "_________________________________________________________________\n",
      "dropout_2 (Dropout)          (None, 16)                0         \n",
      "_________________________________________________________________\n",
      "dense_4 (Dense)              (None, 16)                272       \n",
      "_________________________________________________________________\n",
      "activation_4 (Activation)    (None, 16)                0         \n",
      "_________________________________________________________________\n",
      "dropout_3 (Dropout)          (None, 16)                0         \n",
      "_________________________________________________________________\n",
      "dense_5 (Dense)              (None, 1)                 17        \n",
      "_________________________________________________________________\n",
      "activation_5 (Activation)    (None, 1)                 0         \n",
      "=================================================================\n",
      "Total params: 24,305\n",
      "Trainable params: 24,305\n",
      "Non-trainable params: 0\n",
      "_________________________________________________________________\n",
      "None\n",
      "Epoch 1/100\n",
      "798/798 [==============================] - 3s 4ms/step - loss: 0.0967 - accuracy: 0.8978 - val_loss: 0.0904 - val_accuracy: 0.8983\n",
      "Epoch 2/100\n",
      "798/798 [==============================] - 3s 4ms/step - loss: 0.0908 - accuracy: 0.8983 - val_loss: 0.0892 - val_accuracy: 0.8983\n",
      "Epoch 3/100\n",
      "798/798 [==============================] - 3s 4ms/step - loss: 0.0896 - accuracy: 0.8983 - val_loss: 0.0877 - val_accuracy: 0.8983\n",
      "Epoch 4/100\n",
      "798/798 [==============================] - 3s 4ms/step - loss: 0.0877 - accuracy: 0.8983 - val_loss: 0.0847 - val_accuracy: 0.8983\n",
      "Epoch 5/100\n",
      "798/798 [==============================] - 3s 4ms/step - loss: 0.0842 - accuracy: 0.8983 - val_loss: 0.0790 - val_accuracy: 0.8983\n",
      "Epoch 6/100\n",
      "798/798 [==============================] - 3s 3ms/step - loss: 0.0787 - accuracy: 0.8983 - val_loss: 0.0722 - val_accuracy: 0.8983\n",
      "Epoch 7/100\n",
      "798/798 [==============================] - 2s 3ms/step - loss: 0.0720 - accuracy: 0.8983 - val_loss: 0.0637 - val_accuracy: 0.8983\n",
      "Epoch 8/100\n",
      "798/798 [==============================] - 3s 4ms/step - loss: 0.0645 - accuracy: 0.9010 - val_loss: 0.0559 - val_accuracy: 0.9297\n",
      "Epoch 9/100\n",
      "798/798 [==============================] - 3s 4ms/step - loss: 0.0581 - accuracy: 0.9350 - val_loss: 0.0500 - val_accuracy: 0.9406\n",
      "Epoch 10/100\n",
      "798/798 [==============================] - 4s 5ms/step - loss: 0.0532 - accuracy: 0.9437 - val_loss: 0.0460 - val_accuracy: 0.9461\n",
      "Epoch 11/100\n",
      "798/798 [==============================] - 3s 4ms/step - loss: 0.0496 - accuracy: 0.9463 - val_loss: 0.0436 - val_accuracy: 0.9527\n",
      "Epoch 12/100\n",
      "798/798 [==============================] - 3s 4ms/step - loss: 0.0466 - accuracy: 0.9494 - val_loss: 0.0421 - val_accuracy: 0.9513\n",
      "Epoch 13/100\n",
      "798/798 [==============================] - 3s 4ms/step - loss: 0.0445 - accuracy: 0.9516 - val_loss: 0.0417 - val_accuracy: 0.9514\n",
      "Epoch 14/100\n",
      "798/798 [==============================] - 3s 4ms/step - loss: 0.0423 - accuracy: 0.9532 - val_loss: 0.0399 - val_accuracy: 0.9538\n",
      "Epoch 15/100\n",
      "798/798 [==============================] - 4s 5ms/step - loss: 0.0405 - accuracy: 0.9543 - val_loss: 0.0394 - val_accuracy: 0.9541\n",
      "Epoch 16/100\n",
      "798/798 [==============================] - 4s 5ms/step - loss: 0.0399 - accuracy: 0.9546 - val_loss: 0.0390 - val_accuracy: 0.9536\n",
      "Epoch 17/100\n",
      "798/798 [==============================] - 4s 4ms/step - loss: 0.0383 - accuracy: 0.9560 - val_loss: 0.0396 - val_accuracy: 0.9536\n",
      "Epoch 18/100\n",
      "798/798 [==============================] - 3s 4ms/step - loss: 0.0378 - accuracy: 0.9575 - val_loss: 0.0394 - val_accuracy: 0.9549\n",
      "Epoch 19/100\n",
      "798/798 [==============================] - 3s 4ms/step - loss: 0.0370 - accuracy: 0.9573 - val_loss: 0.0386 - val_accuracy: 0.9549: 1s - l\n",
      "Epoch 20/100\n",
      "798/798 [==============================] - 2s 3ms/step - loss: 0.0366 - accuracy: 0.9581 - val_loss: 0.0385 - val_accuracy: 0.9550\n",
      "Epoch 21/100\n",
      "798/798 [==============================] - 3s 3ms/step - loss: 0.0357 - accuracy: 0.9589 - val_loss: 0.0382 - val_accuracy: 0.9560\n",
      "Epoch 22/100\n",
      "798/798 [==============================] - 2s 3ms/step - loss: 0.0352 - accuracy: 0.9599 - val_loss: 0.0383 - val_accuracy: 0.9546\n",
      "Epoch 23/100\n",
      "798/798 [==============================] - 2s 2ms/step - loss: 0.0340 - accuracy: 0.9616 - val_loss: 0.0384 - val_accuracy: 0.9549\n",
      "Epoch 24/100\n",
      "798/798 [==============================] - 2s 2ms/step - loss: 0.0335 - accuracy: 0.9619 - val_loss: 0.0381 - val_accuracy: 0.9561\n",
      "Epoch 25/100\n",
      "798/798 [==============================] - 3s 3ms/step - loss: 0.0339 - accuracy: 0.9619 - val_loss: 0.0386 - val_accuracy: 0.9561\n",
      "Epoch 26/100\n",
      "798/798 [==============================] - 2s 2ms/step - loss: 0.0328 - accuracy: 0.9630 - val_loss: 0.0403 - val_accuracy: 0.9538\n",
      "Epoch 27/100\n",
      "798/798 [==============================] - 2s 3ms/step - loss: 0.0326 - accuracy: 0.9630 - val_loss: 0.0386 - val_accuracy: 0.9544\n",
      "Epoch 00027: early stopping\n"
     ]
    }
   ],
   "source": [
    "model = keras.Sequential()\n",
    "model.add(keras.layers.Dense(16, input_shape=(X_tfidf_matrix.shape[1],)))\n",
    "model.add(keras.layers.Activation('relu'))\n",
    "model.add(keras.layers.Dropout(0.3))\n",
    "model.add(keras.layers.Dense(16, input_shape=(16,)))\n",
    "model.add(keras.layers.Activation('relu'))\n",
    "model.add(keras.layers.Dropout(0.2))\n",
    "model.add(keras.layers.Dense(1, input_shape=(16,)))\n",
    "model.add(keras.layers.Activation('sigmoid'))\n",
    "es = keras.callbacksEarlyStopping(monitor='val_loss', mode='min', verbose=1, patience=3)\n",
    "opt = keras.optimizers.SGD(lr=0.1) #Default lr=0.01\n",
    "model.compile(optimizer=opt, loss='mse', metrics=['accuracy'])\n",
    "print(model.summary())\n",
    "history = model.fit(X_train.toarray(), np.array(Y_train), epochs=100, validation_data=(X_test.toarray(), np.array(Y_test)), callbacks=[es])"
   ]
  },
  {
   "cell_type": "markdown",
   "metadata": {},
   "source": [
    "## Analysis of model"
   ]
  },
  {
   "cell_type": "code",
   "execution_count": 20,
   "metadata": {},
   "outputs": [
    {
     "name": "stdout",
     "output_type": "stream",
     "text": [
      "200/200 [==============================] - 0s 1ms/step\n",
      "              precision    recall  f1-score   support\n",
      "\n",
      "           0       0.96      0.99      0.97      5734\n",
      "           1       0.85      0.67      0.75       649\n",
      "\n",
      "    accuracy                           0.95      6383\n",
      "   macro avg       0.90      0.83      0.86      6383\n",
      "weighted avg       0.95      0.95      0.95      6383\n",
      "\n"
     ]
    },
    {
     "data": {
      "image/png": "[encoded data removed]",
      "text/plain": [
       "<Figure size 1008x432 with 2 Axes>"
      ]
     },
     "metadata": {
      "needs_background": "light"
     },
     "output_type": "display_data"
    }
   ],
   "source": [
    "history_dict = history.history\n",
    "loss_values = history_dict['loss']\n",
    "val_loss_values = history_dict['val_loss']\n",
    "accuracy = history_dict['accuracy']\n",
    "val_accuracy = history_dict['val_accuracy']\n",
    "     \n",
    "epochs = range(1, len(loss_values) + 1)\n",
    "fig, ax = plt.subplots(1, 2, figsize=(14, 6))\n",
    "#\n",
    "# Plot the model accuracy vs Epochs\n",
    "#\n",
    "ax[0].plot(epochs, accuracy, 'bo', label='Training accuracy')\n",
    "ax[0].plot(epochs, val_accuracy, 'b', label='Validation accuracy')\n",
    "ax[0].set_title('Training & Validation Accuracy', fontsize=16)\n",
    "ax[0].set_xlabel('Epochs', fontsize=16)\n",
    "ax[0].set_ylabel('Accuracy', fontsize=16)\n",
    "ax[0].legend()\n",
    "#\n",
    "# Plot the loss vs Epochs\n",
    "#\n",
    "ax[1].plot(epochs, loss_values, 'bo', label='Training loss')\n",
    "ax[1].plot(epochs, val_loss_values, 'b', label='Validation loss')\n",
    "ax[1].set_title('Training & Validation Loss', fontsize=16)\n",
    "ax[1].set_xlabel('Epochs', fontsize=16)\n",
    "ax[1].set_ylabel('Loss', fontsize=16)\n",
    "ax[1].legend()\n",
    "    \n",
    "y_pred = model.predict(X_test.toarray(), verbose=1)\n",
    "y_pred_bool = np.around(y_pred)\n",
    "\n",
    "print(classification_report(np.array(Y_test), y_pred_bool))"
   ]
  },
  {
   "cell_type": "markdown",
   "metadata": {},
   "source": [
    "## Analysing Tweet"
   ]
  },
  {
   "cell_type": "code",
   "execution_count": 28,
   "metadata": {},
   "outputs": [
    {
     "name": "stdout",
     "output_type": "stream",
     "text": [
      "  (0, 837)\t0.33289475898922016\n",
      "  (0, 730)\t0.4618905699124972\n",
      "  (0, 415)\t0.538125427801537\n",
      "  (0, 261)\t0.34633952351121133\n",
      "  (0, 251)\t0.5160505200761428\n",
      "1/1 [==============================] - 0s 924us/step\n",
      "[[0.11852664]]\n",
      "[[0.]]\n"
     ]
    }
   ],
   "source": [
    "import tweepy \n",
    "\n",
    "consumer_key=''\n",
    "consumer_secret=''\n",
    "access_token=''\n",
    "access_token_secret=''\n",
    "\n",
    "auth = tweepy.OAuthHandler(consumer_key, consumer_secret)\n",
    "auth.set_access_token(access_token, access_token_secret)\n",
    "api = tweepy.API(auth, wait_on_rate_limit=True, wait_on_rate_limit_notify=True, compression=True)\n",
    "\n",
    "\n",
    "\n",
    "# hate speech\n",
    "#id = 1391454174429261832\n",
    "#id = 1391454143810736131\n",
    "#id = 1391455049155375105\n",
    "\n",
    "# not hate speech\n",
    "#id = 1391120603382484996\n",
    "#id = 1389247613929676806\n",
    "#id = 1391163250734157824\n",
    "\n",
    "tweet = api.get_status(id)\n",
    "\n",
    "tfidf_text = tfidfizer.transform([tweet.text])\n",
    "print(tfidf_text)\n",
    "\n",
    "\n",
    "y_pred = model.predict(tfidf_text.toarray(), verbose=1)\n",
    "y_pred_bool = np.around(y_pred)\n",
    "print(y_pred)\n",
    "print(y_pred_bool)\n",
    "\n"
   ]
  },
  {
   "cell_type": "markdown",
   "metadata": {},
   "source": [
    "# CNN"
   ]
  },
  {
   "cell_type": "code",
   "execution_count": 8,
   "metadata": {},
   "outputs": [
    {
     "ename": "IndexError",
     "evalue": "tuple index out of range",
     "output_type": "error",
     "traceback": [
      "\u001b[1;31m---------------------------------------------------------------------------\u001b[0m",
      "\u001b[1;31mIndexError\u001b[0m                                Traceback (most recent call last)",
      "\u001b[1;32m<ipython-input-8-4e4b733ce662>\u001b[0m in \u001b[0;36m<module>\u001b[1;34m\u001b[0m\n\u001b[0;32m      1\u001b[0m \u001b[0mmodel\u001b[0m \u001b[1;33m=\u001b[0m \u001b[0mkeras\u001b[0m\u001b[1;33m.\u001b[0m\u001b[0mSequential\u001b[0m\u001b[1;33m(\u001b[0m\u001b[1;33m)\u001b[0m\u001b[1;33m\u001b[0m\u001b[1;33m\u001b[0m\u001b[0m\n\u001b[1;32m----> 2\u001b[1;33m \u001b[0mmodel\u001b[0m\u001b[1;33m.\u001b[0m\u001b[0madd\u001b[0m\u001b[1;33m(\u001b[0m\u001b[0mkeras\u001b[0m\u001b[1;33m.\u001b[0m\u001b[0mlayers\u001b[0m\u001b[1;33m.\u001b[0m\u001b[0mConv1D\u001b[0m\u001b[1;33m(\u001b[0m\u001b[1;36m128\u001b[0m\u001b[1;33m,\u001b[0m \u001b[0mkernel_size\u001b[0m\u001b[1;33m=\u001b[0m\u001b[1;36m4\u001b[0m\u001b[1;33m,\u001b[0m \u001b[0mactivation\u001b[0m\u001b[1;33m=\u001b[0m\u001b[1;34m'relu'\u001b[0m\u001b[1;33m,\u001b[0m \u001b[0minput_shape\u001b[0m\u001b[1;33m=\u001b[0m\u001b[1;33m(\u001b[0m\u001b[0mX_tfidf_matrix\u001b[0m\u001b[1;33m.\u001b[0m\u001b[0mshape\u001b[0m\u001b[1;33m[\u001b[0m\u001b[1;36m1\u001b[0m\u001b[1;33m]\u001b[0m\u001b[1;33m,\u001b[0m \u001b[0mX_tfidf_matrix\u001b[0m\u001b[1;33m.\u001b[0m\u001b[0mshape\u001b[0m\u001b[1;33m[\u001b[0m\u001b[1;36m2\u001b[0m\u001b[1;33m]\u001b[0m\u001b[1;33m)\u001b[0m\u001b[1;33m)\u001b[0m\u001b[1;33m)\u001b[0m\u001b[1;33m\u001b[0m\u001b[1;33m\u001b[0m\u001b[0m\n\u001b[0m\u001b[0;32m      3\u001b[0m \u001b[0mmodel\u001b[0m\u001b[1;33m.\u001b[0m\u001b[0madd\u001b[0m\u001b[1;33m(\u001b[0m\u001b[0mkeras\u001b[0m\u001b[1;33m.\u001b[0m\u001b[0mlayers\u001b[0m\u001b[1;33m.\u001b[0m\u001b[0mMaxPooling1D\u001b[0m\u001b[1;33m(\u001b[0m\u001b[0mpool_size\u001b[0m\u001b[1;33m=\u001b[0m\u001b[1;36m3\u001b[0m\u001b[1;33m)\u001b[0m\u001b[1;33m)\u001b[0m\u001b[1;33m\u001b[0m\u001b[1;33m\u001b[0m\u001b[0m\n\u001b[0;32m      4\u001b[0m \u001b[0mmodel\u001b[0m\u001b[1;33m.\u001b[0m\u001b[0madd\u001b[0m\u001b[1;33m(\u001b[0m\u001b[0mkeras\u001b[0m\u001b[1;33m.\u001b[0m\u001b[0mlayers\u001b[0m\u001b[1;33m.\u001b[0m\u001b[0mBidirectional\u001b[0m\u001b[1;33m(\u001b[0m\u001b[0mkeras\u001b[0m\u001b[1;33m.\u001b[0m\u001b[0mlayers\u001b[0m\u001b[1;33m.\u001b[0m\u001b[0mLSTM\u001b[0m\u001b[1;33m(\u001b[0m\u001b[1;36m64\u001b[0m\u001b[1;33m,\u001b[0m \u001b[0mreturn_sequences\u001b[0m\u001b[1;33m=\u001b[0m\u001b[1;32mTrue\u001b[0m\u001b[1;33m)\u001b[0m\u001b[1;33m)\u001b[0m\u001b[1;33m)\u001b[0m\u001b[1;33m\u001b[0m\u001b[1;33m\u001b[0m\u001b[0m\n\u001b[0;32m      5\u001b[0m \u001b[0mmodel\u001b[0m\u001b[1;33m.\u001b[0m\u001b[0madd\u001b[0m\u001b[1;33m(\u001b[0m\u001b[0mkeras\u001b[0m\u001b[1;33m.\u001b[0m\u001b[0mlayers\u001b[0m\u001b[1;33m.\u001b[0m\u001b[0mLSTM\u001b[0m\u001b[1;33m(\u001b[0m\u001b[1;36m32\u001b[0m\u001b[1;33m,\u001b[0m \u001b[0mrecurrent_dropout\u001b[0m \u001b[1;33m=\u001b[0m \u001b[1;36m0.4\u001b[0m\u001b[1;33m)\u001b[0m\u001b[1;33m)\u001b[0m\u001b[1;33m\u001b[0m\u001b[1;33m\u001b[0m\u001b[0m\n",
      "\u001b[1;31mIndexError\u001b[0m: tuple index out of range"
     ]
    }
   ],
   "source": [
    "model = keras.Sequential()\n",
    "model.add(keras.layers.Conv1D(128, kernel_size=4, activation='relu', input_shape=(X_tfidf_matrix.shape[1], X_tfidf_matrix.shape[2])))\n",
    "model.add(keras.layers.MaxPooling1D(pool_size=3))\n",
    "model.add(keras.layers.Bidirectional(keras.layers.LSTM(64, return_sequences=True)))\n",
    "model.add(keras.layers.LSTM(32, recurrent_dropout = 0.4))\n",
    "model.add(keras.layers.Dropout(0.2))\n",
    "model.add(keras.layers.Dense(1, activation = \"sigmoid\"))\n",
    "\n",
    "print(model.summary())\n",
    "model.compile(optimizer = \"adam\", loss=\"binary_crossentropy\", metrics=[\"accuracy\"])\n",
    "history = model.fit(X_train, np.array(Y_train), epochs=3, batch_size=64, validation_data=(X_test, np.array(Y_test)))\n",
    "print(history.history)"
   ]
  }
 ],
 "metadata": {
  "kernelspec": {
   "display_name": "Python 3",
   "language": "python",
   "name": "python3"
  },
  "language_info": {
   "codemirror_mode": {
    "name": "ipython",
    "version": 3
   },
   "file_extension": ".py",
   "mimetype": "text/x-python",
   "name": "python",
   "nbconvert_exporter": "python",
   "pygments_lexer": "ipython3",
   "version": "3.8.8"
  }
 },
 "nbformat": 4,
 "nbformat_minor": 4
}
