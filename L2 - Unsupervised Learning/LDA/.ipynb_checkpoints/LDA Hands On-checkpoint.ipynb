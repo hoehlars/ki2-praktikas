{
 "cells": [
  {
   "cell_type": "markdown",
   "metadata": {},
   "source": [
    "## Latent Dirichlet Allocation\n",
    "\n",
    "Here we apply LDA for topic modeling on a corpus with 450 documents for 10 categories. \n",
    "\n",
    " - TODO: in the 4th cell complete the code by inserting the call to the LDA algorithm.\n",
    " - TODO: Look at the output and find a value for n_components where most topics are covered.\n",
    " - TODO: Look at the predicted topics: would you expect this? Why not?"
   ]
  },
  {
   "cell_type": "code",
   "execution_count": 1,
   "metadata": {},
   "outputs": [
    {
     "name": "stdout",
     "output_type": "stream",
     "text": [
      "{'art_and_culture': 0, 'fashion': 1, 'science': 2, 'crime': 3, 'sports': 4, 'politics_us': 5, 'politics_world': 6, 'business': 7, 'tech': 8, 'health': 9}\n"
     ]
    }
   ],
   "source": [
    "#Load data\n",
    "\n",
    "import os\n",
    "\n",
    "file_names = []\n",
    "topic_names = []\n",
    "topic_set = set()\n",
    "base_path = 'corpus'\n",
    "for fname in os.listdir(base_path):\n",
    "    if not fname.endswith('.txt'):\n",
    "        continue\n",
    "    fpath = os.path.join(base_path, fname)\n",
    "    topic = '_'.join(fname.split('-')[:-1])\n",
    "    file_names.append(fpath)\n",
    "    topic_names.append(topic)\n",
    "    topic_set.add(topic)\n",
    "    \n",
    "topic_dict = dict()\n",
    "for i, topic in enumerate(topic_set):\n",
    "    topic_dict[topic] = i\n",
    "    \n",
    "print(topic_dict)"
   ]
  },
  {
   "cell_type": "code",
   "execution_count": 2,
   "metadata": {},
   "outputs": [
    {
     "data": {
      "text/plain": [
       "(450, 5000)"
      ]
     },
     "execution_count": 2,
     "metadata": {},
     "output_type": "execute_result"
    }
   ],
   "source": [
    "from sklearn.feature_extraction.text import CountVectorizer\n",
    "import numpy as np\n",
    "\n",
    "tf_vectorizer = CountVectorizer(input='filename',max_df=0.95, min_df=4,stop_words='english', max_features=5000, ngram_range=(1,3))\n",
    "\n",
    "tf = tf_vectorizer.fit_transform(file_names)\n",
    "\n",
    "topic_labels = np.array([topic_dict.get(topic) for topic in topic_names])\n",
    "\n",
    "tf.shape"
   ]
  },
  {
   "cell_type": "code",
   "execution_count": 4,
   "metadata": {},
   "outputs": [],
   "source": [
    "def print_top_words(model, feature_names, n_top_words):\n",
    "    for topic_idx, topic in enumerate(model.components_):\n",
    "        message = \"Topic #%d: \" % topic_idx\n",
    "        message += \" \".join([feature_names[i] for i in topic.argsort()[:-n_top_words - 1:-1]])\n",
    "        print(message)\n",
    "    print()"
   ]
  },
  {
   "cell_type": "code",
   "execution_count": 6,
   "metadata": {},
   "outputs": [
    {
     "name": "stdout",
     "output_type": "stream",
     "text": [
      "\n",
      "Topics in LDA model:\n",
      "Topic #0: said health food time medicare people study milk life care aarp years research way radiation human children year says star\n",
      "Topic #1: twitter city san tax francisco san francisco employees companies company said stock payroll neighborhood ouattara deal proposed options stock options mirkarimi union\n",
      "Topic #2: said page game company google points new season team ceo second billion day united ball time year just quarter make\n",
      "Topic #3: irish said killed people police attack ira ireland cancer kenny policeman women saturday iphone security british deadly act force verizon\n",
      "Topic #4: said year people friday government old police years time new state like school year old president told man house week going\n",
      "Topic #5: google like new music facebook app search just service mobile users video android available company teacher twitter site microsoft phone\n",
      "Topic #6: calorie information calories fda menus new restaurants movie says menu restaurant law apply make consumers said doctors food country health\n",
      "Topic #7: percent jobs 000 month year rate march new unemployment market said job com report 2011 million economy april fashion prices\n",
      "\n"
     ]
    }
   ],
   "source": [
    "from sklearn.decomposition import LatentDirichletAllocation\n",
    "\n",
    "n_components = 6\n",
    "\n",
    "lda = LatentDirichletAllocation(n_components=n_components)\n",
    "\n",
    "transformed_tf = lda.fit_transform(tf)\n",
    "\n",
    "print(\"\\nTopics in LDA model:\")\n",
    "tf_feature_names = tf_vectorizer.get_feature_names()\n",
    "print_top_words(lda, tf_feature_names, 20)\n",
    "\n",
    "pred_topic = np.argmax(transformed_tf, axis=1)"
   ]
  },
  {
   "cell_type": "code",
   "execution_count": null,
   "metadata": {},
   "outputs": [],
   "source": [
    "pred_topic"
   ]
  },
  {
   "cell_type": "code",
   "execution_count": null,
   "metadata": {},
   "outputs": [],
   "source": []
  }
 ],
 "metadata": {
  "kernelspec": {
   "display_name": "Python 3",
   "language": "python",
   "name": "python3"
  },
  "language_info": {
   "codemirror_mode": {
    "name": "ipython",
    "version": 3
   },
   "file_extension": ".py",
   "mimetype": "text/x-python",
   "name": "python",
   "nbconvert_exporter": "python",
   "pygments_lexer": "ipython3",
   "version": "3.8.3"
  }
 },
 "nbformat": 4,
 "nbformat_minor": 2
}
