{
 "cells": [
  {
   "cell_type": "markdown",
   "metadata": {},
   "source": [
    "## Latent Dirichlet Allocation\n",
    "\n",
    "Here we apply LDA for topic modeling on a corpus with 450 documents for 10 categories. \n",
    "\n",
    " - TODO: in the 4th cell complete the code by inserting the call to the LDA algorithm.\n",
    " - TODO: Look at the output and find a value for n_components where most topics are covered.\n",
    " - TODO: Look at the predicted topics: would you expect this? Why not?"
   ]
  },
  {
   "cell_type": "code",
   "execution_count": null,
   "metadata": {},
   "outputs": [],
   "source": [
    "#Load data\n",
    "\n",
    "import os\n",
    "\n",
    "file_names = []\n",
    "topic_names = []\n",
    "topic_set = set()\n",
    "base_path = 'corpus'\n",
    "for fname in os.listdir(base_path):\n",
    "    if not fname.endswith('.txt'):\n",
    "        continue\n",
    "    fpath = os.path.join(base_path, fname)\n",
    "    topic = '_'.join(fname.split('-')[:-1])\n",
    "    file_names.append(fpath)\n",
    "    topic_names.append(topic)\n",
    "    topic_set.add(topic)\n",
    "    \n",
    "topic_dict = dict()\n",
    "for i, topic in enumerate(topic_set):\n",
    "    topic_dict[topic] = i\n",
    "    \n",
    "print(topic_dict)"
   ]
  },
  {
   "cell_type": "code",
   "execution_count": null,
   "metadata": {},
   "outputs": [],
   "source": [
    "from sklearn.feature_extraction.text import CountVectorizer\n",
    "import numpy as np\n",
    "\n",
    "tf_vectorizer = CountVectorizer(input='filename',max_df=0.95, min_df=4,stop_words='english', max_features=5000, ngram_range=(1,3))\n",
    "\n",
    "tf = tf_vectorizer.fit_transform(file_names)\n",
    "\n",
    "topic_labels = np.array([topic_dict.get(topic) for topic in topic_names])\n",
    "\n",
    "tf.shape"
   ]
  },
  {
   "cell_type": "code",
   "execution_count": null,
   "metadata": {},
   "outputs": [],
   "source": [
    "def print_top_words(model, feature_names, n_top_words):\n",
    "    for topic_idx, topic in enumerate(model.components_):\n",
    "        message = \"Topic #%d: \" % topic_idx\n",
    "        message += \" \".join([feature_names[i] for i in topic.argsort()[:-n_top_words - 1:-1]])\n",
    "        print(message)\n",
    "    print()"
   ]
  },
  {
   "cell_type": "code",
   "execution_count": null,
   "metadata": {},
   "outputs": [],
   "source": [
    "from sklearn.decomposition import LatentDirichletAllocation\n",
    "\n",
    "n_components = 10\n",
    "\n",
    "lda = #TODO insert LDA initialization here\n",
    "\n",
    "transformed_tf = #TODO insert fit_tranform call here..\n",
    "\n",
    "print(\"\\nTopics in LDA model:\")\n",
    "tf_feature_names = tf_vectorizer.get_feature_names()\n",
    "print_top_words(lda, tf_feature_names, 20)\n",
    "\n",
    "pred_topic = np.argmax(transformed_tf, axis=1)"
   ]
  },
  {
   "cell_type": "code",
   "execution_count": null,
   "metadata": {},
   "outputs": [],
   "source": [
    "pred_topic"
   ]
  },
  {
   "cell_type": "code",
   "execution_count": null,
   "metadata": {},
   "outputs": [],
   "source": []
  }
 ],
 "metadata": {
  "kernelspec": {
   "display_name": "Python 3",
   "language": "python",
   "name": "python3"
  },
  "language_info": {
   "codemirror_mode": {
    "name": "ipython",
    "version": 3
   },
   "file_extension": ".py",
   "mimetype": "text/x-python",
   "name": "python",
   "nbconvert_exporter": "python",
   "pygments_lexer": "ipython3",
   "version": "3.7.4"
  }
 },
 "nbformat": 4,
 "nbformat_minor": 2
}
