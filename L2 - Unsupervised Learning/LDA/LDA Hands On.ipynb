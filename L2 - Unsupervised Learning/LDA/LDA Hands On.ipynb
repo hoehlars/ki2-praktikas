{
 "cells": [
  {
   "cell_type": "markdown",
   "metadata": {},
   "source": [
    "## Latent Dirichlet Allocation\n",
    "\n",
    "Here we apply LDA for topic modeling on a corpus with 450 documents for 10 categories. \n",
    "\n",
    " - TODO: in the 4th cell complete the code by inserting the call to the LDA algorithm.\n",
    " - TODO: Look at the output and find a value for n_components where most topics are covered.\n",
    " - TODO: Look at the predicted topics: would you expect this? Why not?"
   ]
  },
  {
   "cell_type": "code",
   "execution_count": 1,
   "metadata": {},
   "outputs": [
    {
     "name": "stdout",
     "output_type": "stream",
     "text": [
      "{'art_and_culture': 0, 'fashion': 1, 'science': 2, 'crime': 3, 'sports': 4, 'politics_us': 5, 'politics_world': 6, 'business': 7, 'tech': 8, 'health': 9}\n"
     ]
    }
   ],
   "source": [
    "#Load data\n",
    "\n",
    "import os\n",
    "\n",
    "file_names = []\n",
    "topic_names = []\n",
    "topic_set = set()\n",
    "base_path = 'corpus'\n",
    "for fname in os.listdir(base_path):\n",
    "    if not fname.endswith('.txt'):\n",
    "        continue\n",
    "    fpath = os.path.join(base_path, fname)\n",
    "    topic = '_'.join(fname.split('-')[:-1])\n",
    "    file_names.append(fpath)\n",
    "    topic_names.append(topic)\n",
    "    topic_set.add(topic)\n",
    "    \n",
    "topic_dict = dict()\n",
    "for i, topic in enumerate(topic_set):\n",
    "    topic_dict[topic] = i\n",
    "    \n",
    "print(topic_dict)"
   ]
  },
  {
   "cell_type": "code",
   "execution_count": 2,
   "metadata": {},
   "outputs": [
    {
     "data": {
      "text/plain": [
       "(450, 5000)"
      ]
     },
     "execution_count": 2,
     "metadata": {},
     "output_type": "execute_result"
    }
   ],
   "source": [
    "from sklearn.feature_extraction.text import CountVectorizer\n",
    "import numpy as np\n",
    "\n",
    "tf_vectorizer = CountVectorizer(input='filename',max_df=0.95, min_df=4,stop_words='english', max_features=5000, ngram_range=(1,3))\n",
    "\n",
    "tf = tf_vectorizer.fit_transform(file_names)\n",
    "\n",
    "topic_labels = np.array([topic_dict.get(topic) for topic in topic_names])\n",
    "\n",
    "tf.shape"
   ]
  },
  {
   "cell_type": "code",
   "execution_count": 4,
   "metadata": {},
   "outputs": [],
   "source": [
    "def print_top_words(model, feature_names, n_top_words):\n",
    "    for topic_idx, topic in enumerate(model.components_):\n",
    "        message = \"Topic #%d: \" % topic_idx\n",
    "        message += \" \".join([feature_names[i] for i in topic.argsort()[:-n_top_words - 1:-1]])\n",
    "        print(message)\n",
    "    print()"
   ]
  },
  {
   "cell_type": "code",
   "execution_count": 7,
   "metadata": {},
   "outputs": [
    {
     "name": "stdout",
     "output_type": "stream",
     "text": [
      "\n",
      "Topics in LDA model:\n",
      "Topic #0: calorie said information new syrup calories food fda menus blood maple sugar teacher restaurants make diabetes health movie menu says\n",
      "Topic #1: twitter city san francisco francisco tax san cancer employees companies company said stock kate options cancers neighborhood payroll mirkarimi stock options rates\n",
      "Topic #2: said percent new 000 year time points report company million health march week market music according food month jobs based\n",
      "Topic #3: said team game day world final play got year season just going hit india didn second players run did make\n",
      "Topic #4: google like new page said just time people com years fashion company make dress ceo year don work look star\n",
      "Topic #5: said police people irish year killed government attack ira new years security ireland saturday state kenny policeman minister women force\n",
      "\n"
     ]
    }
   ],
   "source": [
    "from sklearn.decomposition import LatentDirichletAllocation\n",
    "\n",
    "n_components = 6\n",
    "\n",
    "lda = LatentDirichletAllocation(n_components=n_components)\n",
    "\n",
    "transformed_tf = lda.fit_transform(tf)\n",
    "\n",
    "print(\"\\nTopics in LDA model:\")\n",
    "tf_feature_names = tf_vectorizer.get_feature_names()\n",
    "print_top_words(lda, tf_feature_names, 20)\n",
    "\n",
    "pred_topic = np.argmax(transformed_tf, axis=1)"
   ]
  },
  {
   "cell_type": "code",
   "execution_count": null,
   "metadata": {},
   "outputs": [],
   "source": [
    "pred_topic"
   ]
  },
  {
   "cell_type": "code",
   "execution_count": null,
   "metadata": {},
   "outputs": [],
   "source": []
  }
 ],
 "metadata": {
  "kernelspec": {
   "display_name": "Python 3",
   "language": "python",
   "name": "python3"
  },
  "language_info": {
   "codemirror_mode": {
    "name": "ipython",
    "version": 3
   },
   "file_extension": ".py",
   "mimetype": "text/x-python",
   "name": "python",
   "nbconvert_exporter": "python",
   "pygments_lexer": "ipython3",
   "version": "3.8.3"
  }
 },
 "nbformat": 4,
 "nbformat_minor": 2
}
